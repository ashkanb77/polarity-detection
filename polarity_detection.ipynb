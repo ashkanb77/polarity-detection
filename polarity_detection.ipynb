{
  "nbformat": 4,
  "nbformat_minor": 0,
  "metadata": {
    "colab": {
      "name": "polarity_detection.ipynb",
      "provenance": [],
      "collapsed_sections": [],
      "mount_file_id": "1o5nT8i9PmuJFLBDUWd5Cu5LM_FKx072-",
      "authorship_tag": "ABX9TyN9Qjs8ASYvjsyO6PwGvKsB",
      "include_colab_link": true
    },
    "kernelspec": {
      "name": "python3",
      "display_name": "Python 3"
    },
    "language_info": {
      "name": "python"
    }
  },
  "cells": [
    {
      "cell_type": "markdown",
      "metadata": {
        "id": "view-in-github",
        "colab_type": "text"
      },
      "source": [
        "<a href=\"https://colab.research.google.com/github/ashkanb77/polarity-detection/blob/main/polarity_detection.ipynb\" target=\"_parent\"><img src=\"https://colab.research.google.com/assets/colab-badge.svg\" alt=\"Open In Colab\"/></a>"
      ]
    },
    {
      "cell_type": "code",
      "execution_count": 2,
      "metadata": {
        "id": "Cw1IE8BaID9o"
      },
      "outputs": [],
      "source": [
        "import os\n",
        "import zipfile\n",
        "from nltk.corpus import stopwords\n",
        "from nltk import word_tokenize, download\n",
        "from string import punctuation"
      ]
    },
    {
      "cell_type": "code",
      "source": [
        "zipfile.ZipFile('data.zip').extractall('')"
      ],
      "metadata": {
        "id": "tQzO4YSwQp1S"
      },
      "execution_count": null,
      "outputs": []
    },
    {
      "cell_type": "code",
      "source": [
        "download('stopwords')\n",
        "download('punkt')\n",
        "stop_words = stopwords.words('english')"
      ],
      "metadata": {
        "colab": {
          "base_uri": "https://localhost:8080/"
        },
        "id": "Rt8NR5dy0maq",
        "outputId": "06b7cd5f-4d87-4927-e7b2-3ed73ae746bc"
      },
      "execution_count": 3,
      "outputs": [
        {
          "output_type": "stream",
          "name": "stdout",
          "text": [
            "[nltk_data] Downloading package stopwords to /root/nltk_data...\n",
            "[nltk_data]   Package stopwords is already up-to-date!\n",
            "[nltk_data] Downloading package punkt to /root/nltk_data...\n",
            "[nltk_data]   Package punkt is already up-to-date!\n"
          ]
        }
      ]
    },
    {
      "cell_type": "code",
      "source": [
        "neg_docs = []\n",
        "neg_max = 0\n",
        "for file_name in os.listdir('drive/MyDrive/data/neg'):\n",
        "  with open('drive/MyDrive/data/neg/' + file_name) as file:\n",
        "    txt = file.read()\n",
        "    tokens = word_tokenize(txt)\n",
        "    trans = str.maketrans('', '', punctuation)\n",
        "    tokens = [w.translate(trans) for w in tokens if not w in stop_words]\n",
        "    if len(tokens) > neg_max:\n",
        "      neg_max = len(tokens)\n",
        "    neg_docs.append(' '.join(tokens))\n",
        "len(neg_docs)"
      ],
      "metadata": {
        "colab": {
          "base_uri": "https://localhost:8080/"
        },
        "id": "NAzw2TmU1s0E",
        "outputId": "4e142f10-7702-4647-ca23-c1236beb1ec1"
      },
      "execution_count": 4,
      "outputs": [
        {
          "output_type": "execute_result",
          "data": {
            "text/plain": [
              "1000"
            ]
          },
          "metadata": {},
          "execution_count": 4
        }
      ]
    },
    {
      "cell_type": "code",
      "source": [
        "pos_docs = []\n",
        "pos_max = 0\n",
        "for file_name in os.listdir('drive/MyDrive/data/pos'):\n",
        "  with open('drive/MyDrive/data/pos/' + file_name) as file:\n",
        "    txt = file.read()\n",
        "    tokens = word_tokenize(txt)\n",
        "    trans = str.maketrans('', '', punctuation)\n",
        "    tokens = [w.translate(trans) for w in tokens if not w in stop_words]\n",
        "    if len(tokens) > pos_max:\n",
        "      pos_max = len(tokens)\n",
        "    pos_docs.append(' '.join(tokens))\n",
        "len(pos_docs)"
      ],
      "metadata": {
        "colab": {
          "base_uri": "https://localhost:8080/"
        },
        "id": "XzoPnBAv4Dvr",
        "outputId": "71b44224-5e31-46ec-9626-e0156ee87a37"
      },
      "execution_count": 5,
      "outputs": [
        {
          "output_type": "execute_result",
          "data": {
            "text/plain": [
              "1000"
            ]
          },
          "metadata": {},
          "execution_count": 5
        }
      ]
    },
    {
      "cell_type": "code",
      "source": [
        "import random\n",
        "random.shuffle(pos_docs)\n",
        "random.shuffle(neg_docs)"
      ],
      "metadata": {
        "id": "HGLgRZj24f4M"
      },
      "execution_count": 6,
      "outputs": []
    },
    {
      "cell_type": "code",
      "source": [
        "X_train = neg_docs[:800] + pos_docs[:800]\n",
        "y_train = [0 for _ in range(800)] + [1 for _ in range(800)]"
      ],
      "metadata": {
        "id": "HPRn9qcV4p2O"
      },
      "execution_count": 7,
      "outputs": []
    },
    {
      "cell_type": "code",
      "source": [
        "X_test = neg_docs[800:] + pos_docs[800:]\n",
        "y_test = [0 for _ in range(200)] + [1 for _ in range(200)]"
      ],
      "metadata": {
        "id": "cqK1Kuz65JKQ"
      },
      "execution_count": 8,
      "outputs": []
    },
    {
      "cell_type": "code",
      "source": [
        "max_len = max(pos_max, neg_max)"
      ],
      "metadata": {
        "id": "Rtil9cmZ5Te_"
      },
      "execution_count": 9,
      "outputs": []
    },
    {
      "cell_type": "code",
      "source": [
        "import numpy as np\n",
        "import pickle\n",
        "from tensorflow.keras.preprocessing.text import Tokenizer\n",
        "from tensorflow.keras.preprocessing.sequence import pad_sequences\n",
        "from tensorflow.keras.utils import plot_model\n",
        "from tensorflow.keras.callbacks import ModelCheckpoint, EarlyStopping\n",
        "from tensorflow.keras.models import Model\n",
        "from tensorflow.keras.layers import Dense, Flatten, Dropout, Conv1D, MaxPool1D, Input, Embedding, concatenate\n"
      ],
      "metadata": {
        "id": "XZ2VPepiMeVR"
      },
      "execution_count": 12,
      "outputs": []
    },
    {
      "cell_type": "code",
      "source": [
        "tokenizer = Tokenizer()\n",
        "tokenizer.fit_on_texts(X_train + X_test)"
      ],
      "metadata": {
        "id": "8Xf70G1nOq8r"
      },
      "execution_count": 11,
      "outputs": []
    },
    {
      "cell_type": "code",
      "source": [
        "with open('drive/MyDrive/data/tokenizer.h5', 'wb') as file:\n",
        "  pickle.dump(tokenizer, file)"
      ],
      "metadata": {
        "id": "3OrPfgmPzeQO"
      },
      "execution_count": 12,
      "outputs": []
    },
    {
      "cell_type": "code",
      "source": [
        "# tokenizer.word_index"
      ],
      "metadata": {
        "id": "Vb6qfPfJO8_v"
      },
      "execution_count": 11,
      "outputs": []
    },
    {
      "cell_type": "code",
      "source": [
        "with open('drive/MyDrive/data/tokenizer.h5', 'rb') as file:\n",
        "  tokenizer = pickle.load(file)"
      ],
      "metadata": {
        "id": "8mFi6xKmW8FE"
      },
      "execution_count": 13,
      "outputs": []
    },
    {
      "cell_type": "code",
      "source": [
        "vocab_len = len(tokenizer.word_index) + 1\n",
        "vocab_len"
      ],
      "metadata": {
        "colab": {
          "base_uri": "https://localhost:8080/"
        },
        "id": "QFefPX23PFyJ",
        "outputId": "4fc1d71f-1353-4ff4-e3e7-e69d15d7b220"
      },
      "execution_count": 14,
      "outputs": [
        {
          "output_type": "execute_result",
          "data": {
            "text/plain": [
              "44897"
            ]
          },
          "metadata": {},
          "execution_count": 14
        }
      ]
    },
    {
      "cell_type": "code",
      "source": [
        "encoded = tokenizer.texts_to_sequences(X_train)\n",
        "encoded_test = tokenizer.texts_to_sequences(X_test)"
      ],
      "metadata": {
        "id": "AHvrqWUtPUl3"
      },
      "execution_count": 15,
      "outputs": []
    },
    {
      "cell_type": "code",
      "source": [
        "padded = pad_sequences(encoded, maxlen=max_len, padding='post')\n",
        "padded_test = pad_sequences(encoded_test, maxlen=max_len, padding='post')"
      ],
      "metadata": {
        "id": "NUsQ32tGPnB4"
      },
      "execution_count": 16,
      "outputs": []
    },
    {
      "cell_type": "code",
      "source": [
        "padded.shape"
      ],
      "metadata": {
        "colab": {
          "base_uri": "https://localhost:8080/"
        },
        "id": "DDQMJVcT0KsO",
        "outputId": "9ed5eb7c-968d-4698-fc01-d4dc5560141a"
      },
      "execution_count": 17,
      "outputs": [
        {
          "output_type": "execute_result",
          "data": {
            "text/plain": [
              "(1600, 1759)"
            ]
          },
          "metadata": {},
          "execution_count": 17
        }
      ]
    },
    {
      "cell_type": "code",
      "source": [
        "inp1 = Input(shape=(padded.shape[1], ))\n",
        "embd1 = Embedding(vocab_len, 70)(inp1)\n",
        "conv1 = Conv1D(filters=32, kernel_size=7, activation='relu')(embd1)\n",
        "drop1 = Dropout(0.3)(conv1)\n",
        "pool1 = MaxPool1D(pool_size=2)(drop1)\n",
        "flat1 = Flatten()(pool1)\n",
        "dense1 = Dense(10, activation='relu')(flat1)\n",
        "output = Dense(1, activation='sigmoid')(dense1)"
      ],
      "metadata": {
        "id": "la_geA9oP3iE"
      },
      "execution_count": 38,
      "outputs": []
    },
    {
      "cell_type": "code",
      "source": [
        "model = Model(inputs=inp1, outputs=output)"
      ],
      "metadata": {
        "id": "UCoHDlJ61pjf"
      },
      "execution_count": 39,
      "outputs": []
    },
    {
      "cell_type": "code",
      "source": [
        "model.compile(loss='binary_crossentropy', optimizer='adam', metrics=['accuracy'])"
      ],
      "metadata": {
        "id": "OBKEkgUPRzW-"
      },
      "execution_count": 40,
      "outputs": []
    },
    {
      "cell_type": "code",
      "source": [
        "model.summary()"
      ],
      "metadata": {
        "colab": {
          "base_uri": "https://localhost:8080/"
        },
        "id": "6PrFHyapSEfN",
        "outputId": "51503e6f-5189-41b0-eb7e-72f0104d0013"
      },
      "execution_count": 41,
      "outputs": [
        {
          "output_type": "stream",
          "name": "stdout",
          "text": [
            "Model: \"model_4\"\n",
            "_________________________________________________________________\n",
            " Layer (type)                Output Shape              Param #   \n",
            "=================================================================\n",
            " input_5 (InputLayer)        [(None, 1759)]            0         \n",
            "                                                                 \n",
            " embedding_4 (Embedding)     (None, 1759, 70)          3142790   \n",
            "                                                                 \n",
            " conv1d_4 (Conv1D)           (None, 1753, 32)          15712     \n",
            "                                                                 \n",
            " dropout_4 (Dropout)         (None, 1753, 32)          0         \n",
            "                                                                 \n",
            " max_pooling1d_4 (MaxPooling  (None, 876, 32)          0         \n",
            " 1D)                                                             \n",
            "                                                                 \n",
            " flatten_4 (Flatten)         (None, 28032)             0         \n",
            "                                                                 \n",
            " dense_8 (Dense)             (None, 10)                280330    \n",
            "                                                                 \n",
            " dense_9 (Dense)             (None, 1)                 11        \n",
            "                                                                 \n",
            "=================================================================\n",
            "Total params: 3,438,843\n",
            "Trainable params: 3,438,843\n",
            "Non-trainable params: 0\n",
            "_________________________________________________________________\n"
          ]
        }
      ]
    },
    {
      "cell_type": "code",
      "source": [
        "plot_model(model, show_shapes=True)"
      ],
      "metadata": {
        "colab": {
          "base_uri": "https://localhost:8080/",
          "height": 865
        },
        "id": "050PfN8le_wv",
        "outputId": "a59080c1-b6b9-4596-fe41-6c12ab74c2f1"
      },
      "execution_count": 44,
      "outputs": [
        {
          "output_type": "execute_result",
          "data": {
            "image/png": "[encoded data removed]",
            "text/plain": [
              "<IPython.core.display.Image object>"
            ]
          },
          "metadata": {},
          "execution_count": 44
        }
      ]
    },
    {
      "cell_type": "code",
      "source": [
        "chp = ModelCheckpoint(\n",
        "    'drive/MyDrive/data/polarity_model.h5', monitor='val_loss', \n",
        "    save_best_only=True, mode='min'\n",
        "    )\n",
        "\n",
        "erlstp = EarlyStopping(monitor='val_loss', patience=7, mode='min')"
      ],
      "metadata": {
        "id": "aDzsma8hSG29"
      },
      "execution_count": 42,
      "outputs": []
    },
    {
      "cell_type": "code",
      "source": [
        "hist = model.fit(\n",
        "    padded, np.array(y_train), epochs=15, batch_size=30,\n",
        "    validation_data=(padded_test, np.array(y_test)),\n",
        "    callbacks=[chp, erlstp]\n",
        "    )"
      ],
      "metadata": {
        "colab": {
          "base_uri": "https://localhost:8080/"
        },
        "id": "Tl6eZTvPTT-r",
        "outputId": "abc6b5e6-7957-405f-9688-39eaa63672ad"
      },
      "execution_count": 43,
      "outputs": [
        {
          "output_type": "stream",
          "name": "stdout",
          "text": [
            "Epoch 1/15\n",
            "54/54 [==============================] - 16s 274ms/step - loss: 0.6914 - accuracy: 0.5306 - val_loss: 0.6845 - val_accuracy: 0.5400\n",
            "Epoch 2/15\n",
            "54/54 [==============================] - 15s 276ms/step - loss: 0.6342 - accuracy: 0.6150 - val_loss: 0.6087 - val_accuracy: 0.7225\n",
            "Epoch 3/15\n",
            "54/54 [==============================] - 15s 277ms/step - loss: 0.4365 - accuracy: 0.8863 - val_loss: 0.5298 - val_accuracy: 0.8425\n",
            "Epoch 4/15\n",
            "54/54 [==============================] - 15s 273ms/step - loss: 0.3374 - accuracy: 0.9737 - val_loss: 0.4891 - val_accuracy: 0.8525\n",
            "Epoch 5/15\n",
            "54/54 [==============================] - 14s 259ms/step - loss: 0.3042 - accuracy: 0.9950 - val_loss: 0.5163 - val_accuracy: 0.8200\n",
            "Epoch 6/15\n",
            "54/54 [==============================] - 15s 274ms/step - loss: 0.2851 - accuracy: 0.9962 - val_loss: 0.4737 - val_accuracy: 0.8500\n",
            "Epoch 7/15\n",
            "54/54 [==============================] - 17s 306ms/step - loss: 0.2712 - accuracy: 0.9969 - val_loss: 0.4619 - val_accuracy: 0.8575\n",
            "Epoch 8/15\n",
            "54/54 [==============================] - 15s 275ms/step - loss: 0.2588 - accuracy: 0.9981 - val_loss: 0.4562 - val_accuracy: 0.8575\n",
            "Epoch 9/15\n",
            "54/54 [==============================] - 14s 257ms/step - loss: 0.2477 - accuracy: 0.9981 - val_loss: 0.5010 - val_accuracy: 0.8175\n",
            "Epoch 10/15\n",
            "54/54 [==============================] - 15s 272ms/step - loss: 0.2377 - accuracy: 0.9981 - val_loss: 0.4515 - val_accuracy: 0.8525\n",
            "Epoch 11/15\n",
            "54/54 [==============================] - 14s 257ms/step - loss: 0.2281 - accuracy: 0.9981 - val_loss: 0.4528 - val_accuracy: 0.8525\n",
            "Epoch 12/15\n",
            "54/54 [==============================] - 14s 254ms/step - loss: 0.2191 - accuracy: 0.9981 - val_loss: 0.4576 - val_accuracy: 0.8575\n",
            "Epoch 13/15\n",
            "54/54 [==============================] - 15s 275ms/step - loss: 0.2106 - accuracy: 0.9981 - val_loss: 0.4392 - val_accuracy: 0.8550\n",
            "Epoch 14/15\n",
            "54/54 [==============================] - 14s 262ms/step - loss: 0.2027 - accuracy: 0.9981 - val_loss: 0.4615 - val_accuracy: 0.8375\n",
            "Epoch 15/15\n",
            "54/54 [==============================] - 15s 273ms/step - loss: 0.1951 - accuracy: 0.9981 - val_loss: 0.4318 - val_accuracy: 0.8575\n"
          ]
        }
      ]
    },
    {
      "cell_type": "code",
      "source": [
        ""
      ],
      "metadata": {
        "id": "L6vZRunjUe__"
      },
      "execution_count": null,
      "outputs": []
    }
  ]
}